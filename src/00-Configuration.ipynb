{
 "cells": [
  {
   "cell_type": "markdown",
   "metadata": {},
   "source": [
    "# 00 - Configuration"
   ]
  },
  {
   "cell_type": "markdown",
   "metadata": {},
   "source": [
    "For these notebooks, we'll be using the 'environs' package from pip. This is only done to easily load the USER_NAME, EXPERIMENT_NAME, and other constant variables. This is NOT a requirement of using Azure ML"
   ]
  },
  {
   "cell_type": "code",
   "execution_count": null,
   "metadata": {},
   "outputs": [],
   "source": [
    "%pip install environs"
   ]
  },
  {
   "cell_type": "code",
   "execution_count": null,
   "metadata": {},
   "outputs": [],
   "source": [
    "import environs\n",
    "\n",
    "e_vars = environs.Env()\n",
    "e_vars.read_env('../workshop.env')\n",
    "\n",
    "USER_NAME = e_vars.str(\"USER_NAME\")\n",
    "EXPERIMENT_NAME = e_vars.str('EXPERIMENT_NAME')\n",
    "ENVIRONMENT_NAME = e_vars.str(\"ENVIRONMENT_NAME\")\n",
    "DATASET_NAME = e_vars.str(\"DATASET_NAME\")\n",
    "PULL_DOCKER = e_vars.bool(\"PULL_DOCKER_IMAGE\", False)\n",
    "\n",
    "if not USER_NAME:\n",
    "    raise NotImplementedError(\"Please enter your username in the `.env` file and run this cell again.\")"
   ]
  },
  {
   "cell_type": "code",
   "execution_count": null,
   "metadata": {},
   "outputs": [],
   "source": [
    "PULL_DOCKER"
   ]
  },
  {
   "cell_type": "markdown",
   "metadata": {},
   "source": [
    "# Retrieve Azure Machine Learning Workspace object"
   ]
  },
  {
   "cell_type": "code",
   "execution_count": null,
   "metadata": {},
   "outputs": [],
   "source": [
    "from azureml.core import Workspace\n",
    "\n",
    "ws = Workspace.from_config()"
   ]
  },
  {
   "cell_type": "markdown",
   "metadata": {},
   "source": [
    "If you don't have a config file present where you're running this script, there are several ways to retrieve it. (Compute Instances have it present by default).\n",
    "\n",
    "The SDK makes it easy to connect to the Workspace and save a config file for future runs.\n",
    "```python\n",
    "ws = Workspace(workspace_name='[ENTER WORKSPACE NAME]',\n",
    "               resource_group='[RESOURCE GROUP]',\n",
    "               subscription_id='[SUBSCRIPTION ID]')\n",
    "\n",
    "ws.write_config()\n",
    "```"
   ]
  },
  {
   "cell_type": "markdown",
   "metadata": {},
   "source": [
    "## Attach Data Store(s)\n",
    "Typically, this only needs to be done once per datastore, per workspace"
   ]
  },
  {
   "cell_type": "code",
   "execution_count": null,
   "metadata": {},
   "outputs": [],
   "source": [
    "BLOB_CONTAINER = os.environ.get(\"BLOB_CONTAINER_NAME\", \"diabetes\")\n",
    "BLOB_ACCOUNT = os.environ.get(\"BLOB_ACCT_NAME\", \"publicmldatasc\")\n",
    "BLOB_SAS_TOKEN = os.environ.get(\"BLOB_SAS_TOKEN\", \"?si=DiabetesReadOnly&sv=2019-10-10&sr=c&sig=cz9P%2B1V1eC6FvDIKBQNmA5nWqbsGfkqzdPTTYmiidfg%3D\")"
   ]
  },
  {
   "cell_type": "code",
   "execution_count": null,
   "metadata": {},
   "outputs": [],
   "source": [
    "datastore_name = 'diabetes'\n",
    "\n",
    "from azureml.core import Datastore\n",
    "\n",
    "if ws.datastores.get(datastore_name):\n",
    "    print(f\"'{datastore_name}' datastore found. Skipping registration\")\n",
    "else:\n",
    "    print(f\"'{datastore_name}' datastore not found. Registering with Workspace\")\n",
    "    _ = Datastore.register_azure_blob_container(workspace=ws,\n",
    "                                                datastore_name='diabetes',\n",
    "                                                container_name=BLOB_CONTAINER,\n",
    "                                                account_name=BLOB_ACCOUNT,\n",
    "                                                sas_token=BLOB_SAS_TOKEN)"
   ]
  },
  {
   "cell_type": "code",
   "execution_count": null,
   "metadata": {},
   "outputs": [],
   "source": [
    "ws.datastores"
   ]
  },
  {
   "cell_type": "code",
   "execution_count": null,
   "metadata": {},
   "outputs": [],
   "source": [
    "ds = ws.datastores['diabetes']"
   ]
  },
  {
   "cell_type": "markdown",
   "metadata": {},
   "source": [
    "---\n",
    "### Create and Register a Tabular Dataset\n",
    "Create a 'Tabular' Dataset that can be used across AML"
   ]
  },
  {
   "cell_type": "code",
   "execution_count": null,
   "metadata": {},
   "outputs": [],
   "source": [
    "from azureml.core import Dataset\n",
    "\n",
    "dataset = Dataset.Tabular.from_parquet_files(path=(ds, 'parquet/diabetes.parquet'))\n",
    "dataset = dataset.register(ws, name=DATASET_NAME)"
   ]
  },
  {
   "cell_type": "markdown",
   "metadata": {},
   "source": [
    "---\n",
    "## Create Azure Machine Learning Environment\n",
    "AML Environments allow you to create, track, and version reusable environments to use across Azure Machine Learning. In this example, we'll be creating an AML Environment that leverages Docker to run "
   ]
  },
  {
   "cell_type": "code",
   "execution_count": null,
   "metadata": {},
   "outputs": [],
   "source": [
    "from azureml.core import Environment\n",
    "from azureml.core.conda_dependencies import CondaDependencies"
   ]
  },
  {
   "cell_type": "code",
   "execution_count": null,
   "metadata": {},
   "outputs": [],
   "source": [
    "environ = Environment(ENVIRONMENT_NAME)"
   ]
  },
  {
   "cell_type": "code",
   "execution_count": null,
   "metadata": {},
   "outputs": [],
   "source": [
    "# Set Docker Environment Settings\n",
    "environ.docker.enabled = True"
   ]
  },
  {
   "cell_type": "code",
   "execution_count": null,
   "metadata": {},
   "outputs": [],
   "source": [
    "# Set Python Environment Settings\n",
    "\n",
    "cd = CondaDependencies.create(pip_packages=['azureml-defaults==1.7.0'], \n",
    "                              conda_packages=['scikit-learn==0.22.1', \n",
    "                                              'seaborn==0.10.1',\n",
    "                                              'pandas==1.0.3',\n",
    "                                              'pyarrow==0.15.1'],\n",
    "                             python_version='3.8.3'\n",
    "                             )\n",
    "\n",
    "environ.python.conda_dependencies = cd"
   ]
  },
  {
   "cell_type": "markdown",
   "metadata": {},
   "source": [
    "#### Build the Environment __OPTIONAL__\n",
    "Here, we explicitly build the environment that we'll be using in the lab. If you choose not to build the environment at this point, the first time you run it, the environment will be built."
   ]
  },
  {
   "cell_type": "code",
   "execution_count": null,
   "metadata": {},
   "outputs": [],
   "source": [
    "environ = environ.register(ws)\n",
    "build = environ.build(ws)"
   ]
  },
  {
   "cell_type": "code",
   "execution_count": null,
   "metadata": {
    "scrolled": true
   },
   "outputs": [],
   "source": [
    "build.wait_for_completion(show_output=True)"
   ]
  },
  {
   "cell_type": "code",
   "execution_count": null,
   "metadata": {},
   "outputs": [],
   "source": [
    "if PULL_DOCKER:\n",
    "    from docker import DockerClient\n",
    "\n",
    "    docker = DockerClient.from_env()\n",
    "\n",
    "    image_details = environ.get_image_details(ws)['dockerImage']\n",
    "    docker.login(username=image_details['registry']['username'], \n",
    "                 password=image_details['registry']['password'], \n",
    "                 registry=image_details['registry']['address'])\n",
    "\n",
    "    image = docker.images.pull(repository=image_details['registry']['address']+'/'+image_details['name'])[0]\n",
    "    image.tag(image_details['name'])"
   ]
  },
  {
   "cell_type": "markdown",
   "metadata": {},
   "source": [
    "<br><br><br><br><br>\n",
    "\n",
    "\n",
    "\n",
    "\n",
    "\n",
    "\n",
    "###### Copyright (c) Microsoft Corporation. All rights reserved.  \n",
    "###### Licensed under the MIT License."
   ]
  }
 ],
 "metadata": {
  "kernelspec": {
   "display_name": "Python 3.6 - AzureML",
   "language": "python",
   "name": "python3-azureml"
  },
  "language_info": {
   "codemirror_mode": {
    "name": "ipython",
    "version": 3
   },
   "file_extension": ".py",
   "mimetype": "text/x-python",
   "name": "python",
   "nbconvert_exporter": "python",
   "pygments_lexer": "ipython3",
   "version": "3.6.9"
  }
 },
 "nbformat": 4,
 "nbformat_minor": 4
}

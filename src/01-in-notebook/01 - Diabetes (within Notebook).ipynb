{
 "cells": [
  {
   "cell_type": "markdown",
   "metadata": {},
   "source": [
    "# 01 - Training a Diabetes Regression Model In Notebook"
   ]
  },
  {
   "cell_type": "code",
   "execution_count": null,
   "metadata": {},
   "outputs": [],
   "source": [
    "import environs\n",
    "\n",
    "e_vars = environs.Env()\n",
    "e_vars.read_env('../workshop.env')\n",
    "\n",
    "USER_NAME = e_vars.str(\"USER_NAME\")\n",
    "EXPERIMENT_NAME = e_vars.str('EXPERIMENT_NAME')\n",
    "ENVIRONMENT_NAME = e_vars.str(\"ENVIRONMENT_NAME\")\n",
    "DATASET_NAME = e_vars.str(\"DATASET_NAME\")\n",
    "\n",
    "if not USER_NAME:\n",
    "    raise NotImplementedError(\"Please enter your username in the `.env` file and run this cell again.\")"
   ]
  },
  {
   "cell_type": "code",
   "execution_count": null,
   "metadata": {
    "tags": [
     "install"
    ]
   },
   "outputs": [],
   "source": [
    "%matplotlib inline\n",
    "import azureml.core\n",
    "from azureml.core import Experiment, Workspace\n",
    "from sklearn.datasets import load_diabetes\n",
    "from sklearn.linear_model import Ridge\n",
    "from sklearn.metrics import mean_squared_error, mean_absolute_error, r2_score\n",
    "from sklearn.model_selection import train_test_split\n",
    "import joblib\n",
    "import numpy as np\n",
    "import matplotlib.pyplot as plt\n",
    "import seaborn as sns\n",
    "import pandas as pd\n",
    "import os"
   ]
  },
  {
   "cell_type": "code",
   "execution_count": null,
   "metadata": {
    "tags": [
     "install"
    ]
   },
   "outputs": [],
   "source": [
    "DATA_PATH = \"../../data/\"\n",
    "\n",
    "ws = Workspace.from_config()\n",
    "print()\n",
    "print(f'Workspace name:\\t{ws.name}', \n",
    "      f'Azure region:\\t{ws.location}',\n",
    "      f'Subscription:\\t{ws.subscription_id}',\n",
    "      f'Resource group:\\t{ws.resource_group}',\n",
    "      sep='\\n')"
   ]
  },
  {
   "cell_type": "code",
   "execution_count": null,
   "metadata": {
    "tags": [
     "local run",
     "outputs upload"
    ]
   },
   "outputs": [],
   "source": [
    "experiment = Experiment(workspace=ws, name=EXPERIMENT_NAME)"
   ]
  },
  {
   "cell_type": "markdown",
   "metadata": {},
   "source": [
    "---\n",
    "\n",
    "## Data\n",
    "We will use the diabetes dataset for this experiement, a well-known small dataset that comes with scikit-learn.  This cell loads the dataset and splits it into random training and testing sets.\n"
   ]
  },
  {
   "cell_type": "code",
   "execution_count": null,
   "metadata": {},
   "outputs": [],
   "source": [
    "diabetes_df = pd.read_csv(os.path.join(DATA_PATH,\"diabetes.csv\"))\n",
    "\n",
    "diabetes_df.head(5)"
   ]
  },
  {
   "cell_type": "code",
   "execution_count": null,
   "metadata": {},
   "outputs": [],
   "source": [
    "y = diabetes_df.pop('target').values\n",
    "X = diabetes_df.values\n",
    "\n",
    "X_train, X_test, y_train, y_test = train_test_split(X, y, test_size=0.2, random_state=0)\n",
    "\n",
    "print (f\"Data contains {len(X_train)} training samples and {len(X_test)} test samples\")"
   ]
  },
  {
   "cell_type": "markdown",
   "metadata": {},
   "source": [
    "---\n",
    "## Train\n",
    "\n",
    "Let's use scikit-learn to train a simple Ridge regression model.  We use AML to record interesting information about the model in an Experiment.  An Experiment contains a series of trials called Runs.  During this trial we use AML in the following way:\n",
    "* We access an experiment from our AML workspace by name, which will be created if it doesn't exist\n",
    "* We use `with experiment.start_logging() as run` to create a new run in this experiment in a Python `with` statement context manager.\n",
    "* We use `run.log()` to record a parameter, alpha, and an accuracy measure - the Mean Squared Error (MSE) to the run.  We will be able to review and compare these measures in the Azure Portal at a later time.\n",
    "* We store the resulting model in the **outputs** directory, which is automatically captured by AML when the run is complete."
   ]
  },
  {
   "cell_type": "code",
   "execution_count": null,
   "metadata": {},
   "outputs": [],
   "source": [
    "def plot_residuals_v_actuals(y, y_hat):\n",
    "    \"\"\"Residuals (y-axis) vs. Actuals (x-axis) - colored green\"\"\"\n",
    "    resids = y - y_hat\n",
    "    \n",
    "    fig = plt.figure()\n",
    "    sns.regplot(y, resids, color='g')\n",
    "    \n",
    "    plt.title('Residual vs. Actual')\n",
    "    plt.xlabel(\"Actual Value\")\n",
    "    plt.ylabel(\"Residuals\")\n",
    "    \n",
    "    plt.close(fig)\n",
    "    return fig\n",
    "\n",
    "def plot_predictions(y, y_hat):\n",
    "    \"\"\"Predictions (y-axis) vs. Actuals (x-axis)\"\"\"\n",
    "    fig = plt.figure()\n",
    "    \n",
    "    sns.regplot(y, y_hat, color='b')\n",
    "    \n",
    "    plt.title(\"Prediction vs. Actual\")\n",
    "    plt.xlabel(\"Actual Value\")\n",
    "    plt.ylabel(\"Predicted Value\")\n",
    "    \n",
    "    plt.close(fig)\n",
    "    return fig\n",
    "\n",
    "def plot_resid_histogram(y, y_hat):\n",
    "    resids = y - y_hat \n",
    "\n",
    "    fig = plt.figure()\n",
    "    sns.distplot(resids, color='g')\n",
    "    \n",
    "    plt.title(\"Residual Histogram\")\n",
    "    \n",
    "    plt.close(fig)\n",
    "    return fig"
   ]
  },
  {
   "cell_type": "code",
   "execution_count": null,
   "metadata": {
    "tags": [
     "local run",
     "outputs upload"
    ]
   },
   "outputs": [],
   "source": [
    "# Create a run object in the experiment\n",
    "with experiment.start_logging(tags={\"Context\": \"Notebook\"}) as run:\n",
    "    # Log the algorithm parameter alpha to the run\n",
    "    alpha = 0.03\n",
    "    \n",
    "    # Create, fit, and test the scikit-learn Ridge regression model\n",
    "    regression_model = Ridge(alpha=alpha)\n",
    "    regression_model.fit(X_train, y_train)\n",
    "    preds = regression_model.predict(X_test)\n",
    "\n",
    "    # Output the Mean Squared Error to the notebook and to the run\n",
    "    rmse = np.sqrt(mean_squared_error(y_test, preds))\n",
    "    mae = mean_absolute_error(y_test, preds)\n",
    "    r2 = r2_score(y_test, preds)\n",
    "\n",
    "    print(f\"RMSE:\\t{np.round(rmse,4)}\",\n",
    "          f\"MAE:\\t{np.round(mae,4)}\",\n",
    "          f\"R2:\\t{np.round(r2,4)}\",\n",
    "          sep='\\n')\n",
    "   \n",
    "    resid_fig = plot_residuals_v_actuals(y_test, preds)\n",
    "    resid_hist = plot_resid_histogram(y_test, preds)\n",
    "    pred_plt = plot_predictions(y_test, preds)\n",
    "    \n",
    "    \n",
    "    # Log metrics to Azure ML\n",
    "    # THIS IS THE ONLY AML SPECIFIC CODE HERE #\n",
    "    run.log('alpha', alpha)\n",
    "    run.log('model_type', 'Ridge')\n",
    "    run.log('rmse', rmse)\n",
    "    run.log('mae', mae)\n",
    "    run.log('r2', r2)\n",
    "    run.log_image(name='residuals-v-actuals', plot=resid_fig)\n",
    "    run.log_image(name='residuals-histogram', plot=resid_hist)\n",
    "    run.log_image(name='prediction-v-actual', plot=pred_plt)\n",
    "    \n",
    "    # Save the model to the outputs directory for capture\n",
    "    # Anything saved to ./outputs/ folder will be sent to Azure ML \n",
    "    # at the end of the run\n",
    "    joblib.dump(value=regression_model, filename='outputs/model.pkl')\n",
    "    \n",
    "display(pred_plt, resid_fig, resid_hist)"
   ]
  },
  {
   "cell_type": "code",
   "execution_count": null,
   "metadata": {},
   "outputs": [],
   "source": [
    "#let's view the run in the portal\n",
    "run"
   ]
  },
  {
   "cell_type": "markdown",
   "metadata": {},
   "source": [
    "### Viewing experiment results\n",
    "Similar to viewing the run, we can also view the entire experiment.  The experiment report view in the Azure portal lets us view all the runs in a table, and also allows us to customize charts.  This way, we can see how the alpha parameter impacts the quality of the model"
   ]
  },
  {
   "cell_type": "code",
   "execution_count": null,
   "metadata": {},
   "outputs": [],
   "source": [
    "# now let's take a look at the experiment in Azure portal.\n",
    "experiment"
   ]
  },
  {
   "cell_type": "markdown",
   "metadata": {},
   "source": [
    "<br><br><br><br><br>\n",
    "\n",
    "\n",
    "\n",
    "\n",
    "\n",
    "\n",
    "###### Copyright (c) Microsoft Corporation. All rights reserved.  \n",
    "###### Licensed under the MIT License."
   ]
  }
 ],
 "metadata": {
  "authors": [
   {
    "name": "haining"
   }
  ],
  "kernelspec": {
   "display_name": "Python 3.6 - AzureML",
   "language": "python",
   "name": "python3-azureml"
  },
  "language_info": {
   "codemirror_mode": {
    "name": "ipython",
    "version": 3
   },
   "file_extension": ".py",
   "mimetype": "text/x-python",
   "name": "python",
   "nbconvert_exporter": "python",
   "pygments_lexer": "ipython3",
   "version": "3.6.9"
  }
 },
 "nbformat": 4,
 "nbformat_minor": 4
}

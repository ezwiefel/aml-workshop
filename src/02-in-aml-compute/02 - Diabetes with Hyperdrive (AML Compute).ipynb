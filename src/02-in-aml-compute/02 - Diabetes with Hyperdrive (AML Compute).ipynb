{
 "cells": [
  {
   "cell_type": "markdown",
   "metadata": {},
   "source": [
    "# 02 - Submiting the Run with Various Compute Options"
   ]
  },
  {
   "cell_type": "code",
   "execution_count": null,
   "metadata": {},
   "outputs": [],
   "source": [
    "import environs\n",
    "\n",
    "e_vars = environs.Env()\n",
    "e_vars.read_env('../workshop.env')\n",
    "\n",
    "USER_NAME = e_vars.str(\"USER_NAME\")\n",
    "EXPERIMENT_NAME = e_vars.str('EXPERIMENT_NAME')\n",
    "ENVIRONMENT_NAME = e_vars.str(\"ENVIRONMENT_NAME\")\n",
    "DATASET_NAME = e_vars.str(\"DATASET_NAME\")\n",
    "\n",
    "CLUSTER_NAME = e_vars.str(\"CLUSTER_NAME\")\n",
    "\n",
    "if not USER_NAME:\n",
    "    raise NotImplementedError(\"Please enter your username in the `.env` file and run this cell again.\")"
   ]
  },
  {
   "cell_type": "code",
   "execution_count": null,
   "metadata": {},
   "outputs": [],
   "source": [
    "from azureml.core import Workspace, Experiment, Run, Environment, Dataset\n",
    "from azureml.train.estimator import Estimator\n",
    "from azureml.train.hyperdrive import HyperDriveConfig, PrimaryMetricGoal, RandomParameterSampling, uniform, choice"
   ]
  },
  {
   "cell_type": "code",
   "execution_count": null,
   "metadata": {},
   "outputs": [],
   "source": [
    "ws = Workspace.from_config()\n",
    "\n",
    "# Attach to experiment\n",
    "experiment = Experiment(workspace=ws, name=EXPERIMENT_NAME)"
   ]
  },
  {
   "cell_type": "markdown",
   "metadata": {},
   "source": [
    "## Retrieve Environment, Compute Target, and Dataset Objects"
   ]
  },
  {
   "cell_type": "code",
   "execution_count": null,
   "metadata": {},
   "outputs": [],
   "source": [
    "environ = ws.environments[ENVIRONMENT_NAME]\n",
    "dataset = ws.datasets[DATASET_NAME]\n",
    "cpu_cluster = ws.compute_targets[CLUSTER_NAME]"
   ]
  },
  {
   "cell_type": "markdown",
   "metadata": {},
   "source": [
    "---\n",
    "# Submit Run using Docker Environment on 'Local' Compute"
   ]
  },
  {
   "cell_type": "code",
   "execution_count": null,
   "metadata": {},
   "outputs": [],
   "source": [
    "args = {\"--dataset-name\": 'input_dataset'}\n",
    "\n",
    "local_est = Estimator(source_directory=\".\",\n",
    "                compute_target='local',\n",
    "                entry_script=\"train.py\",\n",
    "                script_params=args,\n",
    "                environment_definition=environ,\n",
    "                inputs=[dataset.as_named_input('input_dataset')]\n",
    "                )"
   ]
  },
  {
   "cell_type": "code",
   "execution_count": null,
   "metadata": {},
   "outputs": [],
   "source": [
    "local_run = experiment.submit(local_est, tags={'Context': \"Local Compute\"})"
   ]
  },
  {
   "cell_type": "code",
   "execution_count": null,
   "metadata": {},
   "outputs": [],
   "source": [
    "_ = local_run.wait_for_completion(show_output=True)"
   ]
  },
  {
   "cell_type": "markdown",
   "metadata": {},
   "source": [
    "---\n",
    "# Submit to AML Compute for Computation"
   ]
  },
  {
   "cell_type": "code",
   "execution_count": null,
   "metadata": {},
   "outputs": [],
   "source": [
    "args = {\"--dataset-name\": 'input_dataset'}\n",
    "\n",
    "est = Estimator(source_directory=\".\",\n",
    "                compute_target=cpu_cluster,\n",
    "                entry_script=\"train.py\",\n",
    "                script_params=args,\n",
    "                environment_definition=environ,\n",
    "                inputs=[dataset.as_named_input('input_dataset')]\n",
    "                )"
   ]
  },
  {
   "cell_type": "code",
   "execution_count": null,
   "metadata": {},
   "outputs": [],
   "source": [
    "run = experiment.submit(est, tags={'Context': \"AML Compute\"})"
   ]
  },
  {
   "cell_type": "code",
   "execution_count": null,
   "metadata": {},
   "outputs": [],
   "source": [
    "_ = run.wait_for_completion(show_output=True)"
   ]
  },
  {
   "cell_type": "markdown",
   "metadata": {},
   "source": [
    "---\n",
    "# Submit to AML Compute with Hyperparameter Sampling"
   ]
  },
  {
   "cell_type": "code",
   "execution_count": null,
   "metadata": {},
   "outputs": [],
   "source": [
    "sampled_params = RandomParameterSampling({\n",
    "                        '--alpha': uniform(0, 1),\n",
    "                        '--l1-ratio': uniform(0, 1),\n",
    "                        '--model-name': choice('ridge', 'elastic', 'gbt'),\n",
    "                        '--learning-rate': uniform(0, 1)\n",
    "                        })\n",
    "\n",
    "hyper_run_config = HyperDriveConfig(estimator=est,\n",
    "                                    hyperparameter_sampling=sampled_params,\n",
    "                                    primary_metric_name='rmse',\n",
    "                                    primary_metric_goal=PrimaryMetricGoal.MINIMIZE,\n",
    "                                    max_total_runs=10,\n",
    "                                    max_concurrent_runs=2)"
   ]
  },
  {
   "cell_type": "code",
   "execution_count": null,
   "metadata": {},
   "outputs": [],
   "source": [
    "hd_run = experiment.submit(hyper_run_config, tags={\"Context\": \"Hyperdrive\"})"
   ]
  },
  {
   "cell_type": "code",
   "execution_count": null,
   "metadata": {},
   "outputs": [],
   "source": [
    "_ = hd_run.wait_for_completion(show_output=True)"
   ]
  },
  {
   "cell_type": "markdown",
   "metadata": {},
   "source": [
    "<br><br><br><br><br>\n",
    "\n",
    "\n",
    "\n",
    "\n",
    "\n",
    "\n",
    "###### Copyright (c) Microsoft Corporation. All rights reserved.  \n",
    "###### Licensed under the MIT License."
   ]
  }
 ],
 "metadata": {
  "kernelspec": {
   "display_name": "Python 3.6 - AzureML",
   "language": "python",
   "name": "python3-azureml"
  },
  "language_info": {
   "codemirror_mode": {
    "name": "ipython",
    "version": 3
   },
   "file_extension": ".py",
   "mimetype": "text/x-python",
   "name": "python",
   "nbconvert_exporter": "python",
   "pygments_lexer": "ipython3",
   "version": "3.6.9"
  }
 },
 "nbformat": 4,
 "nbformat_minor": 4
}
